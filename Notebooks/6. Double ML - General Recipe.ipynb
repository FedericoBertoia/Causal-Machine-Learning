{
 "cells": [
  {
   "cell_type": "markdown",
   "metadata": {},
   "source": [
    "<h1 style=\"font-size: 40px; text-align: center;\">Causal Machine Learning Simulations</h1>"
   ]
  },
  {
   "cell_type": "markdown",
   "metadata": {},
   "source": [
    "<p align=\"center\">\n",
    "  <img src=\"https://pbs.twimg.com/media/FrGy6a5aMAAQ7u3?format=png&name=large\" alt=\"Alt text\" width=\"700\" height=\"350\">\n",
    "</p>"
   ]
  },
  {
   "cell_type": "markdown",
   "metadata": {},
   "source": [
    "# 6. Double ML - General Recipe"
   ]
  },
  {
   "cell_type": "markdown",
   "metadata": {},
   "source": [
    "<div style=\"text-align:center;\">\n",
    "\n",
    "$$\n",
    "\\begin{align*}\n",
    "\\text{Let } \\mathbb{O} & \\text{ be a collection of observable variables, e.g. } \\mathbb{O}\\big(W,X,Y \\big) \\\\\n",
    "\\text{Let } \\theta & \\text{ be the target parameter} \\\\ \n",
    "\\text{Let } \\eta & \\text{ be the collection of nuisance parameters, e.g. } \\eta = \\big(m(X), e(X) \\big) \\\\ \\\\\n",
    "\\end{align*} \\\\\n",
    "\n",
    "\\begin{align*}\n",
    "\\text{Double ML uses score functions } \\psi \\big(O;\\tilde{\\theta};\\tilde{\\eta} \\big) & \\text{ that satisfy:}\n",
    "\\end{align*}\n",
    "$$\n",
    "\n",
    "</div>\n",
    "\n"
   ]
  },
  {
   "cell_type": "markdown",
   "metadata": {},
   "source": [
    "<div style=\"text-align:center;\">\n",
    "\n",
    "$$\n",
    "\\begin{align*}\n",
    "& \\textbf{1. Moment Condition:} \\quad \\mathbb{E}[ (O; \\tilde{\\theta}; \\tilde{\\eta})] = 0 \\\\\n",
    "& \\text{i.e., with expectation zero if evaluated at true parameters.} \\\\\n",
    "\\\\\n",
    "& \\textbf{2. Neyman-Orthogonality Condition:} \\quad \\frac{d}{dr} \\mathbb{E}[ (O; \\theta; \\eta + r(\\tilde{\\eta} - \\eta))] \\bigg|_{r=0} = 0 \\\\\n",
    "& \\text{i.e., Neyman-orthogonality.}\n",
    "\\end{align*}\n",
    "$$\n",
    "\n",
    "</div>\n"
   ]
  },
  {
   "cell_type": "markdown",
   "metadata": {},
   "source": []
  }
 ],
 "metadata": {
  "kernelspec": {
   "display_name": "Python 3",
   "language": "python",
   "name": "python3"
  },
  "language_info": {
   "codemirror_mode": {
    "name": "ipython",
    "version": 3
   },
   "file_extension": ".py",
   "mimetype": "text/x-python",
   "name": "python",
   "nbconvert_exporter": "python",
   "pygments_lexer": "ipython3",
   "version": "3.11.4"
  }
 },
 "nbformat": 4,
 "nbformat_minor": 2
}
